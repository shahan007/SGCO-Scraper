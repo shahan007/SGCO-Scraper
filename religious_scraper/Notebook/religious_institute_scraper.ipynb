{
 "cells": [
  {
   "cell_type": "markdown",
   "id": "prerequisite-hours",
   "metadata": {},
   "source": [
    "<br><br>\n",
    "<h1 style=\"text-align: center;color:Blue;\">\n",
    "    Scraper for Religious Institutions\n",
    "</h1>\n",
    "<br><br>"
   ]
  },
  {
   "cell_type": "markdown",
   "id": "minute-retreat",
   "metadata": {},
   "source": [
    "<br>\n",
    "<h3 style=\"color:darkorange;\">\n",
    "    Note!    \n",
    "<h3>\n",
    "<p>\n",
    "    for xpath expressions try placing the output from bs4 in <a target=\"_blank\" href=\"https://scrapinghub.github.io/xpath-playground/\">Xpath Playground </a>    \n",
    "</p>\n",
    "<br><br>    \n",
    "<p>Execute the following command:</p>   \n",
    "<ul style=\"color:green;\">            \n",
    "    <li>soup = BeautifulSoup(response.text)</li>\n",
    "    <li>soup.select(\"#table24\")</li>\n",
    "</ul>\n",
    "<p>\n",
    "    during scraping there seems to be no tbody tag implemented but the browsers inserts it as it creates its own dom tree.\n",
    "</p>\n",
    "<br><br>"
   ]
  },
  {
   "cell_type": "markdown",
   "id": "infectious-reporter",
   "metadata": {},
   "source": [
    "<h2>Imports</h2>\n",
    "<hr>"
   ]
  },
  {
   "cell_type": "code",
   "execution_count": 1,
   "id": "fifth-worth",
   "metadata": {},
   "outputs": [],
   "source": [
    "# mandatory\n",
    "import requests as req\n",
    "import json\n",
    "import pandas as pd\n",
    "import os\n",
    "import re\n",
    "from lxml import html\n",
    "# optional\n",
    "from bs4 import BeautifulSoup"
   ]
  },
  {
   "cell_type": "code",
   "execution_count": 2,
   "id": "cooperative-shield",
   "metadata": {},
   "outputs": [],
   "source": [
    "def fetch_religious_links(base_url,main_url,headers):\n",
    "    \"\"\"\n",
    "    Fetches Absolute links for all the religious links (might be able to use it for other categories)\n",
    "    \"\"\"\n",
    "    res = req.get(main_url,headers=headers)\n",
    "    if res.ok:        \n",
    "        tree = html.fromstring(html=res.text) \n",
    "        #you can runs the expression below, only works under browser inspector tool\n",
    "        browser_express = \"//table[@id='table24']/tbody/tr[7]//table/tbody/tr[not(position()=1 ) and not(position()=last())]//a/font/text()\"\n",
    "        #main expression to scrape all the religious institutes links; we skip the first two tr as they were blanks; returns relative links\n",
    "        script_expression  = \"//table[@id='table24']/tr[7]//table/tr[not(position()=1 ) and not(position()=last())]//a/@href\"\n",
    "        relig_inst_links =  tree.xpath(script_expression)\n",
    "        #converts each relative link to absolute so we can follow them\n",
    "        absol_links = [req.compat.urljoin(base_url,link) for link in relig_inst_links]\n",
    "        return absol_links\n",
    "    return None    "
   ]
  },
  {
   "cell_type": "code",
   "execution_count": 3,
   "id": "paperback-literature",
   "metadata": {},
   "outputs": [],
   "source": [
    "def scrape_data(link_array,headers):\n",
    "    for link in link_array:\n",
    "        res  = req.get(link,headers=headers)\n",
    "        tree = html.fromstring(html=res.text)\n",
    "        expression = \"(//table//table//table)[8]//tr/td[1]/descendant-or-self::text()\"\n",
    "        company_data     = tree.xpath(expression)\n",
    "        company_data_str = \" \".join(company_data)\n",
    "\n",
    "        # ----regx-----\n",
    "        #compile so can use multiple timesstrip all the blank stuff\n",
    "        regex_strip_expression = r'[\\n\\r\\t\\xa0]'\n",
    "        regex_strip_rtn = re.compile(regex_strip_expression)\n",
    "        #----date cleaning-----         \n",
    "        cleaned_data = regex_strip_rtn.sub('',company_data_str).strip()\n",
    "        data_needed = ['Contact','Address',\"Tel\",\"Fax\",\"e-mail\",\"Website\",\"Categories\",\"Company Profile\"]\n",
    "        data_needed_index = []\n",
    "        final_data = {}\n",
    "        for need in data_needed:\n",
    "            data_needed_index.append(cleaned_data.index(need))\n",
    "        for i in range(len(data_needed_index)-1):\n",
    "            start_index =  data_needed_index[i]\n",
    "            stop_index  = data_needed_index[i+1]    \n",
    "            final_data[data_needed[i]] = \"\".join(cleaned_data[start_index:stop_index].split(':')[1:]).strip() or None\n",
    "        final_data[data_needed[-1]] = cleaned_data[data_needed_index[-1]:].split(':')[1].strip() or None\n",
    "        final_data['Company'] = cleaned_data[:data_needed_index[0]].strip() or None\n",
    "        try:\n",
    "            final_data['e-mail'] = final_data['e-mail'].split()\n",
    "        except:\n",
    "            pass\n",
    "        try:\n",
    "            categories = final_data['Categories'].split(',')\n",
    "            categories = list(map(lambda cat: cat.strip(),categories))\n",
    "            if categories == [\"\"]:\n",
    "                categories = None\n",
    "            final_data['Categories'] =  categories\n",
    "        except:\n",
    "            pass\n",
    "        try:\n",
    "            website_slash_index = final_data['Website'].index(\"//www\")\n",
    "            final_data['Website'] =  final_data['Website'][:website_slash_index ] + \":\"+ final_data['Website'][website_slash_index : ]\n",
    "        except:\n",
    "            pass\n",
    "        yield final_data    "
   ]
  },
  {
   "cell_type": "code",
   "execution_count": 4,
   "id": "mexican-acting",
   "metadata": {},
   "outputs": [],
   "source": [
    "def main():\n",
    "    \n",
    "    print(\"Starting Scraping: Please wait ! Don't quit !\\n\\n\")\n",
    "    \n",
    "    # setting constant variables\n",
    "    base_url = \"http://singapore-companies-directory.com\"\n",
    "    #link to religion institutes to scrape\n",
    "    main_url = \"http://singapore-companies-directory.com/Categories/singapore_religious_institutions.htm\"\n",
    "    #request header\n",
    "    headers = {\n",
    "        \"User-Agent\": \"Mozilla/5.0 (Linux; Android 6.0; Nexus 5 Build/MRA58N) AppleWebKit/537.36 (KHTML, like Gecko) Chrome/92.0.4515.159 Mobile Safari/537.36\"\n",
    "    }\n",
    "    \n",
    "    main_data = {\"Religious_Institutes\":[]}\n",
    "    relig_insts_links = fetch_religious_links(base_url,main_url,headers)    \n",
    "    for inst_data in scrape_data(relig_insts_links,headers):        \n",
    "        main_data[\"Religious_Institutes\"].append(inst_data)        \n",
    "    baseDir = os.path.abspath(os.path.dirname(__name__))            \n",
    "    filename = 'DataOutput/religious_contacts.json'\n",
    "    filePath = os.path.join(baseDir,filename)        \n",
    "    with open(filePath,mode='w') as outfile:\n",
    "        json.dump(main_data,outfile,indent=4)\n",
    "    print(f\"Scraping Done! Checkout the data in the following file:{filename}\\n\\n\")"
   ]
  },
  {
   "cell_type": "code",
   "execution_count": 5,
   "id": "horizontal-korea",
   "metadata": {},
   "outputs": [
    {
     "name": "stdout",
     "output_type": "stream",
     "text": [
      "Starting Scraping: Please wait ! Don't quit !\n",
      "\n",
      "\n",
      "Scraping Done! Checkout the data in the following file:DataOutput/religious_contacts.json\n",
      "\n",
      "\n"
     ]
    }
   ],
   "source": [
    "main()"
   ]
  },
  {
   "cell_type": "markdown",
   "id": "narrative-insurance",
   "metadata": {},
   "source": [
    "<br>\n",
    "<h4>\n",
    "    Utility Function to help you read the data just run the cell\n",
    "</h4>      \n",
    "<br>"
   ]
  },
  {
   "cell_type": "code",
   "execution_count": 6,
   "id": "jewish-congress",
   "metadata": {},
   "outputs": [],
   "source": [
    "def read_data(filename = './DataOutput/religious_contacts.json'):    \n",
    "    baseDir = os.path.abspath(os.path.dirname(__name__))                \n",
    "    filePath = os.path.join(baseDir,filename)        \n",
    "    with open(filePath,mode='r') as outfile:\n",
    "        return  json.load(outfile)  \n",
    "from IPython.display import JSON"
   ]
  },
  {
   "cell_type": "code",
   "execution_count": 7,
   "id": "fresh-closing",
   "metadata": {},
   "outputs": [],
   "source": [
    "def json_to_excel():\n",
    "    religious_series = pd.read_json('./DataOutput/religious_contacts.json')['Religious_Institutes']\n",
    "    religious_df    = religious_series.apply(pd.Series)\n",
    "    religious_df.to_excel('./DataOutput/religious_contacts.xlsx',index=False)    "
   ]
  },
  {
   "cell_type": "code",
   "execution_count": 8,
   "id": "color-click",
   "metadata": {},
   "outputs": [
    {
     "data": {
      "application/json": {
       "Religious_Institutes": [
        {
         "Address": "4 How Sun Drive  Singapore 538526",
         "Categories": [
          "Churches",
          "Religious Institutions"
         ],
         "Company": "Bartley Christian Church",
         "Company Profile": "Church born as a result of the work of Christian National's Evangelism Commission (CNEC) in 1962; ministries reach out to different groups of people, both inSingapore and overseas",
         "Contact": "William Lee Senior Pastor",
         "Fax": null,
         "Tel": "(65) 6285-4322",
         "Website": "http://www.bartley.org.sg",
         "e-mail": [
          "info@bartley.org.sg"
         ]
        },
        {
         "Address": "86 Bedok Road  Singapore 469371",
         "Categories": [
          "Churches",
          "Religious Institutions"
         ],
         "Company": "Bedok Methodist Church (BMC)",
         "Company Profile": "Methodist church in Singapore; conducts services in English & Mandarin; sections",
         "Contact": "Rev Lim Jen Huat",
         "Fax": "(65) 6445-4584",
         "Tel": "(65) 6448-4215",
         "Website": "http://www.bmc.org.sg/",
         "e-mail": [
          "jenhuat@bmc.org.sg"
         ]
        },
        {
         "Address": "300 Bedok North Ave 3  Singapore 469717",
         "Categories": [
          "Churches",
          "Religious Institutions"
         ],
         "Company": "Bethesda (Bedok- Tampines) Church",
         "Company Profile": "Church at Bedok North Avenue with twin aims of evangelism at personal, cell,and corporate levels, and discipling; 3 Ministries",
         "Contact": null,
         "Fax": null,
         "Tel": "(65) 6442-9472",
         "Website": "http://www.bbtc.com.sg/",
         "e-mail": null
        },
        {
         "Address": "30 Chai Chee Street,  Singapore 468979",
         "Categories": [
          "Religious Institutions",
          "Churches"
         ],
         "Company": "Bethesda Cathedral",
         "Company Profile": "Independent charismatic church located in Chai Chee, Singapore; site has  information on services, ministries, events. Bethesda Cathedral was built according to the vision God gave to Pastor Tay Cheng Kee on 26 May 1987 in USA. By the grace of God, the $8 million majestic, white church was completed in Nov 1995.",
         "Contact": null,
         "Fax": null,
         "Tel": "(65) 6444-5891",
         "Website": "http://www.bc.org.sg",
         "e-mail": [
          "admin@bc.org.sg"
         ]
        },
        {
         "Address": "27 Lorong Melayu  Singapore 416913",
         "Categories": [
          "Religious Institutions",
          "Churches"
         ],
         "Company": "Bethesda Chapel",
         "Company Profile": "Singapore Brethren Church, Adult Bible classes, worship services in English & Chinese, kindergarten, Emmaus Library. Formerly known as Geylang Gospel Hall",
         "Contact": null,
         "Fax": null,
         "Tel": "(65) 6742-2481",
         "Website": "http://www.bethesdachapel.org",
         "e-mail": [
          "mail@bethesdachapel.sg",
          "info@bethesdachapel.sg"
         ]
        },
        {
         "Address": "7 Armenian Street, Bible House  Singapore 359340",
         "Categories": [
          "Religious Organizations"
         ],
         "Company": "Bible Society of Singapore",
         "Company Profile": "Singapore Supplier of Bibles & scriptures in many languages tochurches & Christian bookshops; distributes the Bible at subsidised rates for evangelisticpurposes & to the poor in Singapore; part of United Bible Societies",
         "Contact": null,
         "Fax": null,
         "Tel": "(65) 6337-3222",
         "Website": null,
         "e-mail": [
          "info@bible.org.sg"
         ]
        },
        {
         "Address": "622 Upper Bukit Timah Road,  Singapore 678117",
         "Categories": [
          "Religious Institution"
         ],
         "Company": "Boy's Town Singapore",
         "Company Profile": "Catholic institution dedicated to providing guidance, shelter, education, vocational training and practical living skills to youth; cares for orphans, the poor, the neglected and those who find themselves in various states of difficulties",
         "Contact": null,
         "Fax": "(65) 6762-7846",
         "Tel": "(65) 6769-1618",
         "Website": "http://www.boystown.org.sg/",
         "e-mail": [
          "info@boystown.org.sg"
         ]
        },
        {
         "Address": "5 Lorong Napiri,  Singapore 547530",
         "Categories": [
          "Medical Services",
          "Hospital Services",
          "Healthcare"
         ],
         "Company": "Bright Vision Hospital",
         "Company Profile": "Singapore Buddhist community hospital supported by the Ministry of Health. A fully integrated step-down care hospital that offers holistic & quality care, especially to the needy, the sick & the elderly regardless of race and religion offers Medical Services, Hospital Services",
         "Contact": null,
         "Fax": "(65) 6881-3872",
         "Tel": "(65) 6248-5690",
         "Website": "www.bvh.org.sg",
         "e-mail": [
          "enquiries@bvh.org.sg"
         ]
        },
        {
         "Address": "No 2",
         "Categories": [
          "Temples",
          "Religious Institutions"
         ],
         "Company": "Buddhist Fellowship",
         "Company Profile": "Non-sectarian Buddhist organisation whose membership consists of like-minded Buddhist practitioners from various traditions who share the vision of propagating the Dhamma in new and creative ways",
         "Contact": null,
         "Fax": null,
         "Tel": "(65) 6278-0900",
         "Website": "http://www.buddhistfellowship.org",
         "e-mail": [
          "info@buddhistfellowship.org"
         ]
        },
        {
         "Address": "14, Tai Gin Rd  Singapore 327873",
         "Categories": [
          "Temples",
          "Religious Institutions"
         ],
         "Company": "Burmese Buddhist Temple",
         "Company Profile": "Singapore Burmese Buddhist temple built in the traditional style appropriately adapted to local conditions. Dhamma classes, religious festivals and Burmese traditional celebrations like New Year Celebration (Thingyan) are regularly held in the temple",
         "Contact": null,
         "Fax": null,
         "Tel": "(65) 6251-1717",
         "Website": "http://www.burmesebuddhisttemple.org.sg",
         "e-mail": [
          "burtempl@singnet.com.sg"
         ]
        },
        {
         "Address": "70 Barker Road  Singapore 309936",
         "Categories": [
          "Churches",
          "Religious Institutions"
         ],
         "Company": "CAC The Methodist Church in Singapore",
         "Company Profile": "Singapore Churches, Religious Institutions. Chinese Annual Conference comprises a total of 16 churches & three church  planting efforts, 11,000 members, 39 ordained pastors, 12 conference preachers, local ministries, & overseas missionaries; a division of the Methodist Church in Singapore",
         "Contact": null,
         "Fax": null,
         "Tel": null,
         "Website": "http://www.cac-singapore.org.sg",
         "e-mail": null
        },
        {
         "Address": "201 Pandan Gardens  Singapore 609337",
         "Categories": [
          "Churches",
          "Religious Institutions"
         ],
         "Company": "Calvary Pandan Bible-Presbyterian Church",
         "Company Profile": "Singapore Church located in Pandan Gardens; practices Biblical Separation has a website that hasinformation on morning worship",
         "Contact": null,
         "Fax": "(65) 6566-3806",
         "Tel": "(65) 6560-3885",
         "Website": "http://www.calvarypandan.org",
         "e-mail": [
          "calbp@pacific.net.sg"
         ]
        },
        {
         "Address": "1 Sallim Road,  Singapore 387621",
         "Categories": [
          "Schools",
          "Education"
         ],
         "Company": "Canossa Convent Primary School (CCPS)",
         "Company Profile": "Catholic mission school on Sallim Road , amidst the old Aljunied Estate; part of the Canossian Eduplex, which comprises Canossa Convent, Canossaville Children's Home, Canossa Convent Primary School , Magdalene's Kindergarten",
         "Contact": "Grace Tan Principal",
         "Fax": null,
         "Tel": "(65) 6844-1418",
         "Website": "http://www.canossaconventpri.moe.edu.sg",
         "e-mail": [
          "ccps@moe.edu.sg",
          "TAN_Lee_Yin@moe.gov.sg"
         ]
        },
        {
         "Address": "2 Lorong Low Koon,  Singapore 536449",
         "Categories": [
          "Christian Organisations"
         ],
         "Company": "Catholic Archdiocesan Youth Centre (CAYC)",
         "Company Profile": "Singapore Catholic youth centre, facilities available for booking at very affordable rates by youth and adult groups for camps, retreats and seminars",
         "Contact": "Brian D’Souza",
         "Fax": null,
         "Tel": "(65) 6285-2571",
         "Website": "http//cayconline.wordpress.com",
         "e-mail": [
          "edwyn@cayconlie.org",
          "mariana@cayconline.org"
         ]
        },
        {
         "Address": "2221 Ang Mo Kio Ave 8,  Singapore 569809",
         "Categories": [
          "Churches",
          "Religious Institutions"
         ],
         "Company": "Catholic Church of Christ the King, Singapore",
         "Company Profile": "Catholic church in Singapore. The Roman Catholic Church in Singapore was initially under the jurisdiction of the Diocese of Malacca erected in 1558. She was transferred to the Vicariate Apostolic of Ava and Pegu in 1838 and then the Vicariate Apostolic",
         "Contact": null,
         "Fax": null,
         "Tel": "(65) 6459-9958",
         "Website": "http://www.christtheking.com.sg",
         "e-mail": [
          "parishoffice@christtheking.com.sg"
         ]
        },
        {
         "Address": "12 Zion Road,  Singapore 247731",
         "Categories": [
          "Churches",
          "Religious Institutions"
         ],
         "Company": "Catholic Church of St. Bernadette",
         "Company Profile": "Singapore Catholic parish located at Zion Road has a website with information about parish history, the priests, ministries and groups, upcoming events, parish news",
         "Contact": null,
         "Fax": "(65) 6737-8658",
         "Tel": "(65) 6737-3529",
         "Website": "http://www.stbernadette.org.sg",
         "e-mail": [
          "stbern@singnet.com.sg"
         ]
        },
        {
         "Address": "9 Bishan Street 22,  Singapore 579767",
         "Categories": [
          "Schools",
          "Education"
         ],
         "Company": "Catholic High School",
         "Company Profile": "Singapore Government-aided school, comprising a secondary & a primary section. One of the ten current Special Assistance Plan (SAP) schools; offers a bilingual education. Teaches English and Chinese at first language level, as part of the Government's effort to preserve the Chinese tradition, culture and core-values.",
         "Contact": "Lee Hak Boon Principal",
         "Fax": null,
         "Tel": "(65) 6458-2177",
         "Website": "http://www.catholichigh.moe.edu.sg",
         "e-mail": null
        },
        {
         "Address": "129 Whitley Road  Singapore 297822",
         "Categories": [
          "Schools",
          "Education",
          "Colleges",
          ""
         ],
         "Company": "Catholic Junior College",
         "Company Profile": "Singapore government-aided coeducational Christian college offers2 year pre-university courses leading to GCE 'A' Level exam; hostel facility available",
         "Contact": null,
         "Fax": null,
         "Tel": "(65) 6252-4083",
         "Website": "http://www.cjc.edu.sg/web/",
         "e-mail": null
        },
        {
         "Address": "55 Waterloo Street,  Singapore 187954",
         "Categories": [
          "Christian Organisations"
         ],
         "Company": "Catholic Welfare Services Singapore",
         "Company Profile": "Catholic voluntary organisation whose mission is to promote human dignity,to highlight the preciousness of life, to encourage people to live life fully, and to help people integrate better into society.Social Work and Networking,Information and Referral,Casework,Scholarship Aid to Primary and Secondary School Students,Financial Assistance to Students in other Institutions,Food Relief Programmes",
         "Contact": "James Chew Executive Director",
         "Fax": "(65) 6336-1513",
         "Tel": "(65) 6337-7954",
         "Website": "http://www.catholicwelfare.org.sg",
         "e-mail": [
          "generalenquiries@catholicwelfare.org.sg",
          "communityservices@catholicwelfare.org.sg"
         ]
        },
        {
         "Address": "2 Towner Road  Singapore 327804",
         "Categories": [
          "Religious Programs",
          "Cultural Programmes"
         ],
         "Company": "Central Sikh Gurdwara Board (CSGB)",
         "Company Profile": "Singapore statutory board to promote Sikhism and awareness of Sikh heritage in Singapore, and to meet the needs of the community, manages temples and Sikh Centre; organises religious, cultural, and community service programmes",
         "Contact": null,
         "Fax": "(65) 6299-3855",
         "Tel": "(65) 6299-3855",
         "Website": "http://www.sikhs.org.sg/",
         "e-mail": [
          "csgb@sikhs.org.sg"
         ]
        },
        {
         "Address": "50 MacPherson Road,  Singapore 348471",
         "Categories": [
          "Churches",
          "Religious Institutions",
          "Pentecostal Church"
         ],
         "Company": "Charis Full Gospel Centre",
         "Company Profile": "Singapore   Independent Pentecostal Church earlier known as Charis Assembly Of God Church; offers services in English and Burmese on Sundays.",
         "Contact": null,
         "Fax": null,
         "Tel": "(65) 6742-0748",
         "Website": "http://www.charischurch.org",
         "e-mail": [
          "info@charischurch.org"
         ]
        },
        {
         "Address": "15 Tank Road, Sri Thendayuthapani Temple  Singapore 238065",
         "Categories": [
          "Hindu Religious Society",
          "Religious Institutions"
         ],
         "Company": "Chettiars' Temple Society",
         "Company Profile": "Singapore Hindu religious society of the Nattukottai Chettiars in Singapore, managing Sri Layan Sithi Vinayagar Temple (on Keong Saik Road) & Sri Thendayuthapani Temple (on Tank Road); site offers history, pooja timings, & information on facilities & festivals.",
         "Contact": null,
         "Fax": "(65) 6735-0804",
         "Tel": "(65) 6737-9393",
         "Website": "http://www.sttemple.com",
         "e-mail": [
          "chtemple@singnet.com.sg",
          "sttemple_sg@yahoo.com"
         ]
        },
        {
         "Address": "17 Martia Road,  Singapore 424821",
         "Categories": [
          "Schools",
          "Education"
         ],
         "Company": "CHIJ Katong Primary",
         "Company Profile": "Singapore Christian primary school located on Martia Road. Our aim is to provide a well-rounded education to all pupils by caring and concerned teachers in a Christian atmosphere conducive to learning and where each child’s unique talents and potential are valued",
         "Contact": null,
         "Fax": "(65) 6345-9007",
         "Tel": "(65) 6344-3072",
         "Website": "http//chijkcp.moe.edu.sg/",
         "e-mail": [
          "CHIJKTPS@moe.edu.sg"
         ]
        },
        {
         "Address": "2C Burghley Drive  Singapore 558979",
         "Categories": [
          "Schools",
          "Education"
         ],
         "Company": "CHIJ Our Lady of Good Counsel",
         "Company Profile": "Christian school located on Burghley Drive; one of 11 CHIJ schools in Singapore",
         "Contact": "Catherine Seah Principal",
         "Fax": "(65) 6281-4132",
         "Tel": "(65) 6288-6930",
         "Website": "http://www.chijourladyofgoodcounsel.moe.edu.sg/",
         "e-mail": [
          "chijolgcs@moe.edu.sg"
         ]
        },
        {
         "Address": "1257 Upper Serangoon Road,  Singapore 534793",
         "Categories": [
          "Schools",
          "Education"
         ],
         "Company": "CHIJ Our Lady of the Nativity",
         "Company Profile": "Singapore School, One of the 11 CHIJ schools in Singapore; founded by Fr Nicholas Barret",
         "Contact": "Wendy Yong Teacher",
         "Fax": "(65) 6385-2012",
         "Tel": "(65) 6385-2455",
         "Website": "http://www.chijourladyofthenativity.moe.edu.sg/",
         "e-mail": [
          "chijoln@moe.edu.sg",
          "goy_yeong_ee@moe.edu.sg"
         ]
        },
        {
         "Address": "4 Chestnut Drive  Singapore 679287",
         "Categories": [
          "Schools",
          "Education"
         ],
         "Company": "CHIJ Our Lady Queen of Peace",
         "Company Profile": "Singapore Christian school. Our niche areas - Performing Arts, Netball and Green Environment, have blossomed over the years. The school’s performing arts groups namely the School Band, Fusion Dance, Tap Dance and Choir",
         "Contact": "Tan-Lim Kim Gek Principal",
         "Fax": "(65) 6765-3551",
         "Tel": "(65) 6769-1529",
         "Website": "://www.chijourladyqueenofpeace.moe.edu.sg/",
         "e-mail": [
          "chijolqp@moe.edu.sg"
         ]
        },
        {
         "Address": "628 Lorong 1 Toa Payoh  Singapore 319765",
         "Categories": [
          "Schools",
          "Education"
         ],
         "Company": "CHIJ Primary (Toa Payoh)",
         "Company Profile": "Christian school located on Toa Payoh Lorong 1",
         "Contact": null,
         "Fax": "(65) 6353-6362",
         "Tel": "(65) 6353-2164",
         "Website": "http://www.chijpritoapayoh.moe.edu.sg/",
         "e-mail": null
        },
        {
         "Address": "62 Sengkang East Way  Singapore",
         "Categories": [
          "Schools",
          "Education"
         ],
         "Company": "CHIJ St. Joseph's Convent School",
         "Company Profile": "Singapore Government-aided secondary school run by the Order of the Holy Infant Jesus; prepares students for GCE 'O' and 'N' Level exams; one of the top 10 value-added schools for Normal and Express streams",
         "Contact": null,
         "Fax": null,
         "Tel": "(65) 6489-7580",
         "Website": null,
         "e-mail": null
        },
        {
         "Address": "160 Lower Delta Road  Singapore 099138",
         "Categories": [
          "Schools",
          "Education"
         ],
         "Company": "CHIJ St. Theresa's Convent",
         "Company Profile": "Singapore Government-aided, single session secondary school run by the Order of the Holy Infant Jesus; prepares students for GCE 'O' and 'N' Level exams; awarded MOE Character Development Award and MOE Sustained Award for Academic Achievements",
         "Contact": null,
         "Fax": null,
         "Tel": "(65) 6477-5777",
         "Website": "http://www.chijsttheresasconvent.moe.edu.sg/",
         "e-mail": null
        },
        {
         "Address": "626 Lorong 1 Toa Payoh  Singapore 319764",
         "Categories": [
          "Schools",
          "Education"
         ],
         "Company": "CHIJ Toa Payoh",
         "Company Profile": "Singapore Government-aided girls' school; founded in 1845 by the Convent of the Holy Infant Jesus; located at Toa Payoh Lorong 1",
         "Contact": null,
         "Fax": null,
         "Tel": "(65) 6353-4972",
         "Website": "http://www.chijsectoapayoh.moe.edu.sg",
         "e-mail": null
        },
        {
         "Address": "179, River Valley Rd #05-15  Singapore 179033",
         "Categories": [
          "Book Shops",
          "Book Dealers"
         ],
         "Company": "Christian Growth Resources Ltd",
         "Company Profile": "Singapore Christian Book Shops, Singapore Christian Book Dealers, Wholesale, Book Shops.",
         "Contact": "Dr Tan Khian Seng",
         "Fax": "(65) 6337-5279",
         "Tel": "(65) 6270-9677 (65) 6337-6876",
         "Website": "http//lifewholeness.bravehost.com",
         "e-mail": [
          "growthtraining@gmail.com"
         ]
        },
        {
         "Address": "Block 414 Tampines Street 41 #01-301  Singapore 520414",
         "Categories": [
          "Christian Organisations",
          "Special Needs",
          "Charities",
          "Public Welfare Services",
          "Social Services"
         ],
         "Company": "Christian Outreach to the Handicapped",
         "Company Profile": "Singapore Christian Organisation,",
         "Contact": null,
         "Fax": "(65) 6787-6990",
         "Tel": "(65) 6787-3200",
         "Website": "http://www.coh.org.sg",
         "e-mail": [
          "admin@coh.org.sg"
         ]
        },
        {
         "Address": "407 Jalan Kayu  Singapore 799512",
         "Categories": [
          "Churches",
          "Religious Institutions",
          "Places of Worship"
         ],
         "Company": "Church Of Epiphany",
         "Company Profile": "Singapore Anglican Church, Churches, Religious Institutions, Places of Worship",
         "Contact": null,
         "Fax": "(65) 6481-4358",
         "Tel": "(65) 6481-4358",
         "Website": null,
         "e-mail": null
        },
        {
         "Address": "20 Tampines Street 11,  Singapore 529455",
         "Categories": [
          "Churches",
          "Catholic Churches",
          "Places of Worship",
          "Religious Goods",
          "Religious Services"
         ],
         "Company": "Church of Holy Trinity",
         "Company Profile": "Singapore Catholic church at 20 Tampines Street 11; site has info about the mass schedule, parish groups, parish events, kindergarten run by the parish",
         "Contact": "Rev Edward Lim Parish Priest",
         "Fax": "(65) 6786-5042",
         "Tel": "(65) 6784-2332",
         "Website": "http://www.holytrinity.org.sg",
         "e-mail": [
          "htadmin@holytrinity.org.sg"
         ]
        },
        {
         "Address": "130 Margaret Drive  Singapore 149300",
         "Categories": [
          "Churches",
          "Anglican Churches",
          "Places of Worship",
          "Religious Goods",
          "Religious Services"
         ],
         "Company": "Church of Our Saviour (COOS)",
         "Company Profile": "Singapore Anglican Church, Places of Worship",
         "Contact": null,
         "Fax": null,
         "Tel": "(65) 6885-0700",
         "Website": "http://www.coos.org.sg/",
         "e-mail": null
        },
        {
         "Address": "Farrer Road,  Singapore 912809",
         "Categories": [
          "Churches",
          "Places of Worship",
          "Religious Services",
          "Religious Institutions"
         ],
         "Company": "Church of Praise",
         "Company Profile": "Singapore Church recognised by the Assemblies of God of Singapore; aims",
         "Contact": null,
         "Fax": "(65) 6344-3600",
         "Tel": "(65) 6344-3500",
         "Website": "http://www.churchofpraise.org.sg/",
         "e-mail": [
          "admin@churchofpraise.org.sg"
         ]
        },
        {
         "Address": "200 Boon Lay Avenue,  Singapore 649964",
         "Categories": [
          "Churches",
          "Places of Worship",
          "Religious Services",
          "Religious Institutions"
         ],
         "Company": "Church of St. Francis of Assisi",
         "Company Profile": "Catholic church at 200 Boon Lay Avenue; site has info about the church's history, its priests, church groups, bulletin",
         "Contact": null,
         "Fax": "(65) 6261-2931",
         "Tel": "(65) 6261-2931",
         "Website": "http://www.sfa-parish.org.sg",
         "e-mail": [
          "revjohn@singnet.com.sg",
          "frfredsfa@gmail.com"
         ]
        },
        {
         "Address": "5 Bukit Batok East Avenue 2,  Singapore 659918",
         "Categories": [
          "Churches",
          "Places of Worship",
          "Religious Services",
          "Religious Institutions"
         ],
         "Company": "Church of St Mary of the Angels",
         "Company Profile": "Church on 5 Bukit Batok East Avenue 2 which won the President's Design Award for its architecture in 2006; site has information on pastoral services, groups/ ministries",
         "Contact": "John-Paul Tan Parish Priest",
         "Fax": null,
         "Tel": "(65) 6567-3866",
         "Website": "http://www.stmary.sg",
         "e-mail": [
          "youth@stmary.sg",
          "jptan@stmary.sg"
         ]
        },
        {
         "Address": "5 Bukit Batok East Avenue 2,  Singapore 659918",
         "Categories": [
          "Churches",
          "Places of Worship",
          "Religious Services",
          "Religious Institutions"
         ],
         "Company": "Church of St Mary of the Angels",
         "Company Profile": "Church on 5 Bukit Batok East Avenue 2 which won the President's Design Award for its architecture in 2006; site has information on pastoral services, groups/ ministries",
         "Contact": "John-Paul Tan Parish Priest",
         "Fax": null,
         "Tel": "(65) 6567-3866",
         "Website": "http://www.stmary.sg",
         "e-mail": [
          "youth@stmary.sg",
          "jptan@stmary.sg"
         ]
        },
        {
         "Address": "17 St Michael'S Road  Singapore 327976",
         "Categories": [
          "Roman Catholic Churches",
          "Religious Institutions",
          "Places of Worship"
         ],
         "Company": "Church Of St Michael",
         "Company Profile": "Churches, Roman Catholic Churches, Singapore Religious Institutions, Singapore Places of Worship",
         "Contact": null,
         "Fax": "(65) 6293-4024",
         "Tel": "(65) 6291-9272",
         "Website": null,
         "e-mail": null
        },
        {
         "Address": "225A Queen Street,  Singapore 188551",
         "Categories": [
          "Churches",
          "Places of Worship",
          "Religious Services",
          "Religious Institutions"
         ],
         "Company": "Church of Sts. Peter & Paul",
         "Company Profile": "Catholic church on Queen Street built in 1870; site has information on its history, pastoral services, ministries, the Carmelites",
         "Contact": "Martha Loh",
         "Fax": null,
         "Tel": "(65) 6337-2585",
         "Website": "http://www.sppchurch.org.sg",
         "e-mail": [
          "sts.peternpaul@pacific.net.sg",
          "spppatrick@gmail.com"
         ]
        },
        {
         "Address": "13 Francis Thomas Drive,  Singapore 359339",
         "Categories": [
          "Churches",
          "Places of Worship",
          "Religious Services",
          "Religious Institutions"
         ],
         "Company": "Church of the Ascension (COA)",
         "Company Profile": "Church in St. Andrew's Village (SAV), serving the Christian community in Potong Pasir; has details of English, Mandarin, Tamil, Filipino, Indonesian, Hokkien services etc, Ascension Kindergarten, Ascension Kindercare, & ComLink Community programmes",
         "Contact": "Rev Ong Chooi Seng Vicar",
         "Fax": null,
         "Tel": "(65) 6283-3988",
         "Website": "http://www.ascension.org.sg",
         "e-mail": [
          "admin@ascension.org.sg"
         ]
        },
        {
         "Address": "450 Clementi Ave 1,  Singapore 129955",
         "Categories": [
          "Churches",
          "Places of Worship",
          "Religious Services",
          "Religious Institutions"
         ],
         "Company": "Church of the Holy Cross",
         "Company Profile": "Singapore Catholic church at 450 Clementi Avenue. Singapore Churches, Singapore Places of Worship, Singapore Religious Services, Singapore Religious Institutions",
         "Contact": "Richards Ambrose",
         "Fax": "(65) 6773-5676",
         "Tel": "(65) 6777-5858",
         "Website": "http://www.holycross.org.sg",
         "e-mail": [
          "holycross@singnet.com.sg"
         ]
        },
        {
         "Address": "6 Chapel Road,  Singapore 429509",
         "Categories": [
          "Churches",
          "Places of Worship",
          "Religious Services",
          "Religious Institutions"
         ],
         "Company": "Church of The Holy Family",
         "Company Profile": "Catholic church at 6 Chapel Road with about 8,500 parishioners. Church of the Holy Family located along East Coast Road at 6 Chapel Road is nestled amongst many new and old buildings. This area called Katong is home to many well-known eateries and shops",
         "Contact": "Rev Patrick Goh",
         "Fax": null,
         "Tel": "(65) 6344-0046",
         "Website": "http://www.holyfamily.org.sg",
         "e-mail": [
          "secretariat@holyfamily.org.sg",
          "catechist@holyfamily.org.sg"
         ]
        },
        {
         "Address": "91 Toa Payoh Central  Singapore 319193",
         "Categories": [
          "Roman Catholic Churches",
          "Religious Institutions",
          "Places of Worship"
         ],
         "Company": "Church Of The Risen Christ",
         "Company Profile": "Singapore Roman Catholic Singapore Churches, Singapore Religious Institutions, Singapore Places of Worship",
         "Contact": null,
         "Fax": "(65) 6253-2166",
         "Tel": "(65) 6253-2166",
         "Website": null,
         "e-mail": null
        }
       ]
      },
      "text/plain": [
       "<IPython.core.display.JSON object>"
      ]
     },
     "execution_count": 8,
     "metadata": {
      "application/json": {
       "expanded": false,
       "root": "root"
      }
     },
     "output_type": "execute_result"
    }
   ],
   "source": [
    "relig_inst_data = read_data()\n",
    "JSON(relig_inst_data)"
   ]
  },
  {
   "cell_type": "code",
   "execution_count": 9,
   "id": "affiliated-miller",
   "metadata": {},
   "outputs": [],
   "source": [
    "json_to_excel()"
   ]
  }
 ],
 "metadata": {
  "kernelspec": {
   "display_name": "Python 3",
   "language": "python",
   "name": "python3"
  },
  "language_info": {
   "codemirror_mode": {
    "name": "ipython",
    "version": 3
   },
   "file_extension": ".py",
   "mimetype": "text/x-python",
   "name": "python",
   "nbconvert_exporter": "python",
   "pygments_lexer": "ipython3",
   "version": "3.7.9"
  }
 },
 "nbformat": 4,
 "nbformat_minor": 5
}
